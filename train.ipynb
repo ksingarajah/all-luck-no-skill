{
 "cells": [
  {
   "cell_type": "markdown",
   "metadata": {},
   "source": [
    "Copyright 2021 Google LLC\n",
    "\n",
    "Licensed under the Apache License, Version 2.0 (the \"License\");\n",
    "you may not use this file except in compliance with the License.\n",
    "You may obtain a copy of the License at\n",
    "\n",
    "    https://www.apache.org/licenses/LICENSE-2.0\n",
    "\n",
    "Unless required by applicable law or agreed to in writing, software\n",
    "distributed under the License is distributed on an \"AS IS\" BASIS,\n",
    "WITHOUT WARRANTIES OR CONDITIONS OF ANY KIND, either express or implied.\n",
    "See the License for the specific language governing permissions and\n",
    "limitations under the License."
   ]
  },
  {
   "cell_type": "code",
   "execution_count": 1,
   "metadata": {
    "_cell_guid": "b1076dfc-b9ad-4769-8c92-a6c4dae69d19",
    "_uuid": "8f2839f25d086af736a60e9eeb907d3b93b6e0e5",
    "execution": {
     "iopub.execute_input": "2021-09-22T01:40:27.248852Z",
     "iopub.status.busy": "2021-09-22T01:40:27.247837Z",
     "iopub.status.idle": "2021-09-22T01:40:29.832812Z",
     "shell.execute_reply": "2021-09-22T01:40:29.832035Z"
    },
    "papermill": {
     "duration": 2.618412,
     "end_time": "2021-09-22T01:40:29.833009",
     "exception": false,
     "start_time": "2021-09-22T01:40:27.214597",
     "status": "completed"
    },
    "tags": []
   },
   "outputs": [],
   "source": [
    "import numpy as np\n",
    "import pandas as pd\n",
    "import torch\n",
    "import torch.nn.functional as F\n",
    "\n",
    "from sklearn.decomposition import PCA\n",
    "from torch import nn\n",
    "from torch.autograd import Variable\n",
    "from torch.utils.data import DataLoader"
   ]
  },
  {
   "cell_type": "markdown",
   "metadata": {
    "papermill": {
     "duration": 0.015173,
     "end_time": "2021-09-22T01:44:08.495148",
     "exception": false,
     "start_time": "2021-09-22T01:44:08.479975",
     "status": "completed"
    },
    "tags": []
   },
   "source": [
    "# Model Definition"
   ]
  },
  {
   "cell_type": "code",
   "execution_count": 3,
   "metadata": {
    "execution": {
     "iopub.execute_input": "2021-09-22T01:44:08.531484Z",
     "iopub.status.busy": "2021-09-22T01:44:08.530746Z",
     "iopub.status.idle": "2021-09-22T01:44:08.533791Z",
     "shell.execute_reply": "2021-09-22T01:44:08.534244Z"
    },
    "papermill": {
     "duration": 0.029205,
     "end_time": "2021-09-22T01:44:08.534438",
     "exception": false,
     "start_time": "2021-09-22T01:44:08.505233",
     "status": "completed"
    },
    "tags": []
   },
   "outputs": [],
   "source": [
    "class MLP(nn.Module):\n",
    "    def __init__(self):\n",
    "        super(MLP, self).__init__()\n",
    "\n",
    "        # \"Other\" group components, 2 fully connected layers\n",
    "        self.other_fc1 = nn.Linear(80, 256)\n",
    "        self.other_ReLU1 = nn.ReLU()\n",
    "        self.other_batch_norm1 = nn.BatchNorm1d(256)\n",
    "        self.other_dropout1 = nn.Dropout(0.8)\n",
    "        self.other_fc2 = nn.Linear(256, 128)\n",
    "        self.other_ReLU2 = nn.ReLU()\n",
    "        self.other_batch_norm2 = nn.BatchNorm1d(128)\n",
    "        self.other_dropout2 = nn.Dropout(0.6)\n",
    "\n",
    "        # Top 49 PCA features components + feature_0 + weights\n",
    "        self.pca_fc = nn.Linear(51, 256)\n",
    "        self.pca_ReLU = nn.ReLU() # duplicate cause bad code nice\n",
    "        self.pca_batch_norm = nn.BatchNorm1d(256)\n",
    "        self.pca_dropout = nn.Dropout(0.6)\n",
    "\n",
    "        # Final layer over concatenated results\n",
    "        self.final_fc1 = nn.Linear(384, 128)\n",
    "        self.final_ReLU = nn.ReLU()\n",
    "        self.final_batch_norm = nn.BatchNorm1d(128)\n",
    "        self.final_dropout = nn.Dropout(0.2)\n",
    "        self.final_fc2 = nn.Linear(128, 5)\n",
    "        self.final_sigmoid = nn.Sigmoid()\n",
    "\n",
    "    def forward(self, pca_x, other_x):\n",
    "        # \"Other\" feature computations\n",
    "        other_ret = self.other_fc1(other_x)\n",
    "        other_ret = self.other_ReLU1(other_ret)\n",
    "        other_ret = self.other_batch_norm1(other_ret)\n",
    "        other_ret = self.other_dropout1(other_ret)\n",
    "        other_ret = self.other_fc2(other_ret)\n",
    "        other_ret = self.other_ReLU2(other_ret)\n",
    "        other_ret = self.other_batch_norm2(other_ret)\n",
    "        other_ret = self.other_dropout2(other_ret)\n",
    "\n",
    "        # Top 49 PCA features components + feature_0 + weights\n",
    "        pca_ret = self.pca_fc(pca_x)\n",
    "        pca_ret = self.pca_ReLU(pca_ret)\n",
    "        pca_ret = self.pca_batch_norm(pca_ret)\n",
    "        pca_ret = self.pca_dropout(pca_ret)\n",
    "\n",
    "        # Final fully connected layer\n",
    "        x = torch.cat((pca_ret, other_ret), dim=1)\n",
    "        ret = self.final_fc1(x)\n",
    "        ret = self.final_ReLU(ret)\n",
    "        ret = self.final_batch_norm(ret)\n",
    "        ret = self.final_dropout(ret)\n",
    "        ret = self.final_fc2(ret)\n",
    "        ret = self.final_sigmoid(ret)\n",
    "\n",
    "        return ret \n"
   ]
  },
  {
   "cell_type": "markdown",
   "metadata": {
    "papermill": {
     "duration": 0.008687,
     "end_time": "2021-09-22T01:44:08.552395",
     "exception": false,
     "start_time": "2021-09-22T01:44:08.543708",
     "status": "completed"
    },
    "tags": []
   },
   "source": [
    "# Custom Binary Cross Entropy"
   ]
  },
  {
   "cell_type": "code",
   "execution_count": 4,
   "metadata": {
    "execution": {
     "iopub.execute_input": "2021-09-22T01:44:08.579658Z",
     "iopub.status.busy": "2021-09-22T01:44:08.578967Z",
     "iopub.status.idle": "2021-09-22T01:44:08.582828Z",
     "shell.execute_reply": "2021-09-22T01:44:08.582244Z"
    },
    "papermill": {
     "duration": 0.021788,
     "end_time": "2021-09-22T01:44:08.582977",
     "exception": false,
     "start_time": "2021-09-22T01:44:08.561189",
     "status": "completed"
    },
    "tags": []
   },
   "outputs": [],
   "source": [
    "# Custom weighted binary cross entropy function\n",
    "def weighted_binary_cross_entropy(y_pred, y_true, device):\n",
    "    epsilon = 1e-9\n",
    "    floated_true = (y_true > 0).float()\n",
    "    floated_pred = (y_pred > 0.5).float()\n",
    "    correct = (floated_true == floated_pred).float()\n",
    "\n",
    "    # 1.02 tuning factor for case where predicted action is to trade but the true action is not to trade\n",
    "    loss = (floated_true * torch.log(y_pred + epsilon)) + \\\n",
    "           1.02 * ((1 - floated_true) * torch.log(1 - y_pred + epsilon))\n",
    "\n",
    "    # Equal weighting between resp and resp_{1, 2, 3, 4} and penalizes wrong judgments more based on W_resp\n",
    "    loss = loss * torch.tensor([[0.5, 0.125, 0.125, 0.125, 0.125]]).to(device) * ((1 - correct) * torch.abs(y_true) + 1)\n",
    "    return torch.neg(torch.sum(loss))"
   ]
  },
  {
   "cell_type": "markdown",
   "metadata": {
    "papermill": {
     "duration": 0.008757,
     "end_time": "2021-09-22T01:44:08.600991",
     "exception": false,
     "start_time": "2021-09-22T01:44:08.592234",
     "status": "completed"
    },
    "tags": []
   },
   "source": [
    "# Loading Data"
   ]
  },
  {
   "cell_type": "code",
   "execution_count": 5,
   "metadata": {
    "execution": {
     "iopub.execute_input": "2021-09-22T01:44:08.634277Z",
     "iopub.status.busy": "2021-09-22T01:44:08.633599Z",
     "iopub.status.idle": "2021-09-22T01:44:08.635616Z",
     "shell.execute_reply": "2021-09-22T01:44:08.636110Z"
    },
    "papermill": {
     "duration": 0.026488,
     "end_time": "2021-09-22T01:44:08.636310",
     "exception": false,
     "start_time": "2021-09-22T01:44:08.609822",
     "status": "completed"
    },
    "tags": []
   },
   "outputs": [],
   "source": [
    "# PyTorch class for loading data\n",
    "class Dataset(torch.utils.data.Dataset):\n",
    "  def __init__(self, x1, x2, y):\n",
    "        self.x1 = torch.Tensor(x1.values)\n",
    "        self.x2 = torch.Tensor(x2.values)\n",
    "        self.y = torch.Tensor(y)\n",
    "\n",
    "  def __len__(self):\n",
    "        return len(self.y)\n",
    "\n",
    "  def __getitem__(self, index):\n",
    "        # Load data and get label\n",
    "        return self.x1[index], self.x2[index], self.y[index]\n",
    "\n",
    "# Loads training data from path and normalizes + splits it into the \"PCA\" / \"Other\" buckets\n",
    "def load_data(path):\n",
    "    print(\"loading data...\")\n",
    "    train = pd.read_csv(path)\n",
    "    \n",
    "    # Divide the features into the top 49 PCA features components + feature_0 + weights and the Other features\n",
    "    all_features = ['feature_'+str(i) for i in range(0,130)]\n",
    "    pca_features = ['feature_56', 'feature_24', 'feature_87', 'feature_126', 'feature_50', 'feature_77', 'feature_12', \n",
    "                    'feature_63', 'feature_2', 'feature_1', 'feature_59', 'feature_123', 'feature_3', 'feature_44', \n",
    "                    'feature_49', 'feature_58', 'feature_55', 'feature_8', 'feature_60', 'feature_18', 'feature_51', \n",
    "                    'feature_78', 'feature_35', 'feature_41', 'feature_52', 'feature_121', 'feature_54', 'feature_40', \n",
    "                    'feature_57', 'feature_6', 'feature_74', 'feature_98', 'feature_83', 'feature_70', 'feature_82', \n",
    "                    'feature_9', 'feature_16', 'feature_43', 'feature_34', 'feature_125', 'feature_45', 'feature_72', \n",
    "                    'feature_69', 'feature_92', 'feature_65', 'feature_4', 'feature_28', 'feature_36', 'feature_117', \n",
    "                    'feature_0', 'weight']\n",
    "    other_features= [f for f in all_features if f not in pca_features]\n",
    "    \n",
    "    # Normalize data based on entire dataset, fill in any blanks with the mean\n",
    "    mean = train.mean()\n",
    "    abs_max = train.abs().max(axis=0)\n",
    "    train = train[train[\"weight\"]!=0]\n",
    "    train = train.fillna(mean)/abs_max\n",
    "    train = train.reset_index(drop=True)\n",
    "\n",
    "    # Split data into x1, x2, y\n",
    "    pca_x = train[pca_features]\n",
    "    other_x = train[other_features]\n",
    "    \n",
    "    # y is calculated as weight * resp\n",
    "    x_train_weights = np.expand_dims(train['weight'].values, axis=-1) \n",
    "    x_train_resps = train[['resp', 'resp_1', 'resp_2', 'resp_3', 'resp_4']].values\n",
    "    y = (x_train_weights * x_train_resps)\n",
    "\n",
    "    return pca_x, other_x, y"
   ]
  },
  {
   "cell_type": "markdown",
   "metadata": {
    "papermill": {
     "duration": 0.009198,
     "end_time": "2021-09-22T01:44:08.655295",
     "exception": false,
     "start_time": "2021-09-22T01:44:08.646097",
     "status": "completed"
    },
    "tags": []
   },
   "source": [
    "# Train Model"
   ]
  },
  {
   "cell_type": "code",
   "execution_count": 6,
   "metadata": {
    "execution": {
     "iopub.execute_input": "2021-09-22T01:44:08.677916Z",
     "iopub.status.busy": "2021-09-22T01:44:08.677157Z",
     "iopub.status.idle": "2021-09-22T02:56:42.263437Z",
     "shell.execute_reply": "2021-09-22T02:56:42.264831Z"
    },
    "papermill": {
     "duration": 4353.601281,
     "end_time": "2021-09-22T02:56:42.266106",
     "exception": false,
     "start_time": "2021-09-22T01:44:08.664825",
     "status": "completed"
    },
    "tags": []
   },
   "outputs": [
    {
     "name": "stdout",
     "output_type": "stream",
     "text": [
      "loading data...\n",
      "training model...\n",
      "[epoch 0]\n",
      "[epoch 1]\n",
      "[epoch 2]\n",
      "[epoch 3]\n",
      "[epoch 4]\n",
      "[epoch 5]\n",
      "[epoch 6]\n",
      "[epoch 7]\n",
      "[epoch 8]\n",
      "[epoch 9]\n",
      "[epoch 10]\n",
      "[epoch 11]\n",
      "[epoch 12]\n",
      "[epoch 13]\n",
      "[epoch 14]\n",
      "loading data...\n",
      "training model...\n",
      "[epoch 0]\n",
      "[epoch 1]\n",
      "[epoch 2]\n",
      "[epoch 3]\n",
      "[epoch 4]\n",
      "[epoch 5]\n",
      "[epoch 6]\n",
      "[epoch 7]\n",
      "[epoch 8]\n",
      "[epoch 9]\n",
      "[epoch 10]\n",
      "[epoch 11]\n",
      "[epoch 12]\n",
      "[epoch 13]\n",
      "[epoch 14]\n",
      "loading data...\n",
      "training model...\n",
      "[epoch 0]\n",
      "[epoch 1]\n",
      "[epoch 2]\n",
      "[epoch 3]\n",
      "[epoch 4]\n",
      "[epoch 5]\n",
      "[epoch 6]\n",
      "[epoch 7]\n",
      "[epoch 8]\n",
      "[epoch 9]\n",
      "[epoch 10]\n",
      "[epoch 11]\n",
      "[epoch 12]\n",
      "[epoch 13]\n",
      "[epoch 14]\n"
     ]
    }
   ],
   "source": [
    "DATA_LOCATION = \"train.csv\" # Replace with train data path\n",
    "EPOCHS = 15\n",
    "BATCH_SIZE = 4096\n",
    "LR = 1e-4\n",
    "DEVICE = torch.device(\"cuda\" if torch.cuda.is_available() else \"cpu\")\n",
    "\n",
    "def train_model(save_name):\n",
    "    \n",
    "    pca_x, other_x, y = load_data(DATA_LOCATION)\n",
    "\n",
    "    model = MLP()\n",
    "    model.to(DEVICE)\n",
    "    model.train()\n",
    "    optimizer = torch.optim.AdamW(model.parameters(), lr=LR)\n",
    "\n",
    "    training_set = Dataset(pca_x, other_x, y)\n",
    "    training_generator = DataLoader(training_set, batch_size=BATCH_SIZE, shuffle=True, num_workers=4)\n",
    "\n",
    "    print(\"training model...\") \n",
    "    for epoch in range(EPOCHS): \n",
    "        print(f\"[epoch {epoch}]\")\n",
    "        \n",
    "        for pca_batch, other_batch, y_batch in training_generator:\n",
    "            optimizer.zero_grad()\n",
    "            preds = model(pca_batch.to(DEVICE), other_batch.to(DEVICE))\n",
    "            loss = weighted_binary_cross_entropy(preds, y_batch.to(DEVICE), DEVICE)\n",
    "            loss.backward()\n",
    "            optimizer.step()\n",
    "\n",
    "    torch.save(model, save_name)\n",
    "\n",
    "train_model(\"model1.pth\")\n",
    "train_model(\"model2.pth\")\n",
    "train_model(\"model3.pth\")"
   ]
  }
 ],
 "metadata": {
  "kernelspec": {
   "display_name": "Python 3",
   "language": "python",
   "name": "python3"
  },
  "language_info": {
   "codemirror_mode": {
    "name": "ipython",
    "version": 3
   },
   "file_extension": ".py",
   "mimetype": "text/x-python",
   "name": "python",
   "nbconvert_exporter": "python",
   "pygments_lexer": "ipython3",
   "version": "3.7.10"
  },
  "papermill": {
   "default_parameters": {},
   "duration": 4586.443363,
   "end_time": "2021-09-22T02:56:44.858049",
   "environment_variables": {},
   "exception": null,
   "input_path": "__notebook__.ipynb",
   "output_path": "__notebook__.ipynb",
   "parameters": {},
   "start_time": "2021-09-22T01:40:18.414686",
   "version": "2.3.3"
  }
 },
 "nbformat": 4,
 "nbformat_minor": 5
}
